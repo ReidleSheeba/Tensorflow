{
  "nbformat": 4,
  "nbformat_minor": 0,
  "metadata": {
    "colab": {
      "name": "5 CV Exercise.ipynb",
      "provenance": [],
      "collapsed_sections": [],
      "toc_visible": true
    },
    "kernelspec": {
      "name": "python3",
      "display_name": "Python 3"
    },
    "accelerator": "GPU"
  },
  "cells": [
    {
      "cell_type": "markdown",
      "metadata": {
        "id": "Ur4kVuIEaU8q",
        "colab_type": "text"
      },
      "source": [
        "# Hand Writing Recognition \n",
        "**mnist** dataset\n",
        "\n",
        "This is a similar dataset as the **fashion_mnist**.\n",
        "\n",
        "Here, we are writing an MNIST classifier that trains to 99% accuracy or above, and does it without a fixed number of epochs -- i.e. you should stop training once you reach that level of accuracy.\n",
        "\n",
        "Some notes:\n",
        "\n",
        "1) It should succeed in less than 10 epochs, so it is okay to change epochs to 10, but nothing larger\n",
        "\n",
        "2)When it reaches 99% or greater it should print out the string \"Reached 99% accuracy so cancelling training!\"\n",
        "\n",
        "3)If you add any additional variables, make sure you use the same names as the ones used in the class"
      ]
    },
    {
      "cell_type": "code",
      "metadata": {
        "id": "8FV3atovlCfF",
        "colab_type": "code",
        "outputId": "682620bb-8880-468c-9db7-1b27fa1b02fe",
        "colab": {
          "base_uri": "https://localhost:8080/",
          "height": 255
        }
      },
      "source": [
        "# importing the package\n",
        "import tensorflow as tf\n",
        "print(tf.__version__)\n",
        "\n",
        "# implementing a \"Callback\" by creaing a class called myCallback\n",
        "# We are specifying it to stop the training once the accuracy reaches 99%\n",
        "class myCallback(tf.keras.callbacks.Callback):\n",
        "  def on_epoch_end(self, epoch, logs={}):\n",
        "    if(logs.get('accuracy')>0.99):\n",
        "      print(\"\\n Reached 99% accuracy so cancelling training!\")\n",
        "      self.model.stop_training = True\n",
        "\n",
        "# creating an instance of my Callback\n",
        "callbacks = myCallback()\n",
        "\n",
        "# importing the dataset from the keras.dataset API\n",
        "mnist = tf.keras.datasets.mnist\n",
        "\n",
        "# Loading the data into training and testing\n",
        "(x_train, y_train), (x_test, y_test) = mnist.load_data()\n",
        "\n",
        "# normalizing the data\n",
        "x_train = x_train/255.0\n",
        "x_test = x_test/255.0\n",
        "\n",
        "# definng the model\n",
        "model = tf.keras.models.Sequential([tf.keras.layers.Flatten(),\n",
        "                                    tf.keras.layers.Dense(512, activation= tf.nn.relu),\n",
        "                                    tf.keras.layers.Dense(10, activation= tf.nn.softmax)\n",
        "                                    ])\n",
        "# compiling the model\n",
        "model.compile(optimizer = 'adam', loss = 'sparse_categorical_crossentropy', metrics = ['accuracy'])\n",
        "\n",
        "# training the model\n",
        "model.fit(x_train, y_train, epochs = 10, callbacks = [callbacks])\n"
      ],
      "execution_count": 0,
      "outputs": [
        {
          "output_type": "stream",
          "text": [
            "2.2.0\n",
            "Epoch 1/10\n",
            "1875/1875 [==============================] - 7s 4ms/step - loss: 0.2008 - accuracy: 0.9412\n",
            "Epoch 2/10\n",
            "1875/1875 [==============================] - 7s 4ms/step - loss: 0.0805 - accuracy: 0.9756\n",
            "Epoch 3/10\n",
            "1875/1875 [==============================] - 6s 3ms/step - loss: 0.0524 - accuracy: 0.9837\n",
            "Epoch 4/10\n",
            "1875/1875 [==============================] - 6s 3ms/step - loss: 0.0361 - accuracy: 0.9886\n",
            "Epoch 5/10\n",
            "1870/1875 [============================>.] - ETA: 0s - loss: 0.0288 - accuracy: 0.9912\n",
            " Reached 99% accuracy so cancelling training!\n",
            "1875/1875 [==============================] - 6s 3ms/step - loss: 0.0288 - accuracy: 0.9912\n"
          ],
          "name": "stdout"
        },
        {
          "output_type": "execute_result",
          "data": {
            "text/plain": [
              "<tensorflow.python.keras.callbacks.History at 0x7facd615ac50>"
            ]
          },
          "metadata": {
            "tags": []
          },
          "execution_count": 15
        }
      ]
    },
    {
      "cell_type": "markdown",
      "metadata": {
        "id": "JIaVNIFY_YsZ",
        "colab_type": "text"
      },
      "source": [
        "So after 5 epochswe were able to hit that 99% accuracy."
      ]
    },
    {
      "cell_type": "code",
      "metadata": {
        "id": "wPlayhvipQnl",
        "colab_type": "code",
        "outputId": "bc54edae-ffb1-4dc2-db3c-ea3b37a758b8",
        "colab": {
          "base_uri": "https://localhost:8080/",
          "height": 51
        }
      },
      "source": [
        "model.evaluate(x_test, y_test)"
      ],
      "execution_count": 0,
      "outputs": [
        {
          "output_type": "stream",
          "text": [
            "313/313 [==============================] - 1s 2ms/step - loss: 0.0751 - accuracy: 0.9793\n"
          ],
          "name": "stdout"
        },
        {
          "output_type": "execute_result",
          "data": {
            "text/plain": [
              "[0.07512041926383972, 0.9793000221252441]"
            ]
          },
          "metadata": {
            "tags": []
          },
          "execution_count": 18
        }
      ]
    }
  ]
}