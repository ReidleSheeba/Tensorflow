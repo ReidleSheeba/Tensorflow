{
  "nbformat": 4,
  "nbformat_minor": 0,
  "metadata": {
    "colab": {
      "name": "Copy of 4 First step in Computer Vision.ipynb",
      "provenance": [],
      "collapsed_sections": []
    },
    "kernelspec": {
      "name": "python3",
      "display_name": "Python 3"
    },
    "accelerator": "GPU"
  },
  "cells": [
    {
      "cell_type": "markdown",
      "metadata": {
        "id": "_LcWJIOkMrK9",
        "colab_type": "text"
      },
      "source": [
        "Lets look at a scenarion where we can recognize different items of clothing trained from a dataset containg 70,000 items of clothing in 10 different categories.\n",
        "\n",
        "Fashion-MNIST is an inbuilt dataset in keras and lets try to train the Neural Neteork model to recognize all the items of the clothing from the dataset.\n",
        "\n",
        "\n",
        "Each item of clothing is 28x28 greyscale image."
      ]
    },
    {
      "cell_type": "code",
      "metadata": {
        "id": "FcTCqS3lIR-G",
        "colab_type": "code",
        "outputId": "7f788129-c7f2-4fa5-cd34-ff958fccc607",
        "colab": {
          "base_uri": "https://localhost:8080/",
          "height": 34
        }
      },
      "source": [
        "import tensorflow as tf\n",
        "tf.__version__"
      ],
      "execution_count": 1,
      "outputs": [
        {
          "output_type": "execute_result",
          "data": {
            "text/plain": [
              "'2.2.0'"
            ]
          },
          "metadata": {
            "tags": []
          },
          "execution_count": 1
        }
      ]
    },
    {
      "cell_type": "markdown",
      "metadata": {
        "id": "c1VVMMUcM5QI",
        "colab_type": "text"
      },
      "source": [
        "The Fashion-MNIST dataset is available directly in the tf.keras datasets API. we can load it like this."
      ]
    },
    {
      "cell_type": "code",
      "metadata": {
        "id": "fesf8vD6MOQw",
        "colab_type": "code",
        "colab": {}
      },
      "source": [
        "mnist = tf.keras.datasets.fashion_mnist\n"
      ],
      "execution_count": 0,
      "outputs": []
    },
    {
      "cell_type": "markdown",
      "metadata": {
        "id": "U8q1twJ6O4-8",
        "colab_type": "text"
      },
      "source": [
        "Calling **load_data** in this object will give two sets of two lists, there will be the training and the testing values for the graphics that contains the clothing items and their labels"
      ]
    },
    {
      "cell_type": "code",
      "metadata": {
        "id": "WHjB-rVNPf_9",
        "colab_type": "code",
        "colab": {}
      },
      "source": [
        "(training_images, training_labels), (test_images, test_labels) = mnist.load_data()"
      ],
      "execution_count": 0,
      "outputs": []
    },
    {
      "cell_type": "markdown",
      "metadata": {
        "id": "SLgZEPZ-P6y9",
        "colab_type": "text"
      },
      "source": [
        "To see what the values look like, let's print a training image and a training label to see"
      ]
    },
    {
      "cell_type": "code",
      "metadata": {
        "id": "ZOZ8tTRfPw0p",
        "colab_type": "code",
        "outputId": "a101893d-fac4-4371-a311-0393a455485e",
        "colab": {
          "base_uri": "https://localhost:8080/",
          "height": 282
        }
      },
      "source": [
        "import matplotlib.pyplot as plt\n",
        "plt.imshow(training_images[0])\n"
      ],
      "execution_count": 4,
      "outputs": [
        {
          "output_type": "execute_result",
          "data": {
            "text/plain": [
              "<matplotlib.image.AxesImage at 0x7fbcd1388d30>"
            ]
          },
          "metadata": {
            "tags": []
          },
          "execution_count": 4
        },
        {
          "output_type": "display_data",
          "data": {
            "image/png": "[encoded data removed]",
            "text/plain": [
              "<Figure size 432x288 with 1 Axes>"
            ]
          },
          "metadata": {
            "tags": [],
            "needs_background": "light"
          }
        }
      ]
    },
    {
      "cell_type": "code",
      "metadata": {
        "id": "FVF6TXSxQr90",
        "colab_type": "code",
        "colab": {}
      },
      "source": [
        "# plt.imshow(training_images[1])"
      ],
      "execution_count": 0,
      "outputs": []
    },
    {
      "cell_type": "code",
      "metadata": {
        "id": "DpjyFq8AQ3pT",
        "colab_type": "code",
        "outputId": "aa7a0560-37b6-4903-f608-9bcf60ff961c",
        "colab": {
          "base_uri": "https://localhost:8080/",
          "height": 986
        }
      },
      "source": [
        "print(training_images[0])\n",
        "print(training_labels[0])"
      ],
      "execution_count": 6,
      "outputs": [
        {
          "output_type": "stream",
          "text": [
            "[[  0   0   0   0   0   0   0   0   0   0   0   0   0   0   0   0   0   0\n",
            "    0   0   0   0   0   0   0   0   0   0]\n",
            " [  0   0   0   0   0   0   0   0   0   0   0   0   0   0   0   0   0   0\n",
            "    0   0   0   0   0   0   0   0   0   0]\n",
            " [  0   0   0   0   0   0   0   0   0   0   0   0   0   0   0   0   0   0\n",
            "    0   0   0   0   0   0   0   0   0   0]\n",
            " [  0   0   0   0   0   0   0   0   0   0   0   0   1   0   0  13  73   0\n",
            "    0   1   4   0   0   0   0   1   1   0]\n",
            " [  0   0   0   0   0   0   0   0   0   0   0   0   3   0  36 136 127  62\n",
            "   54   0   0   0   1   3   4   0   0   3]\n",
            " [  0   0   0   0   0   0   0   0   0   0   0   0   6   0 102 204 176 134\n",
            "  144 123  23   0   0   0   0  12  10   0]\n",
            " [  0   0   0   0   0   0   0   0   0   0   0   0   0   0 155 236 207 178\n",
            "  107 156 161 109  64  23  77 130  72  15]\n",
            " [  0   0   0   0   0   0   0   0   0   0   0   1   0  69 207 223 218 216\n",
            "  216 163 127 121 122 146 141  88 172  66]\n",
            " [  0   0   0   0   0   0   0   0   0   1   1   1   0 200 232 232 233 229\n",
            "  223 223 215 213 164 127 123 196 229   0]\n",
            " [  0   0   0   0   0   0   0   0   0   0   0   0   0 183 225 216 223 228\n",
            "  235 227 224 222 224 221 223 245 173   0]\n",
            " [  0   0   0   0   0   0   0   0   0   0   0   0   0 193 228 218 213 198\n",
            "  180 212 210 211 213 223 220 243 202   0]\n",
            " [  0   0   0   0   0   0   0   0   0   1   3   0  12 219 220 212 218 192\n",
            "  169 227 208 218 224 212 226 197 209  52]\n",
            " [  0   0   0   0   0   0   0   0   0   0   6   0  99 244 222 220 218 203\n",
            "  198 221 215 213 222 220 245 119 167  56]\n",
            " [  0   0   0   0   0   0   0   0   0   4   0   0  55 236 228 230 228 240\n",
            "  232 213 218 223 234 217 217 209  92   0]\n",
            " [  0   0   1   4   6   7   2   0   0   0   0   0 237 226 217 223 222 219\n",
            "  222 221 216 223 229 215 218 255  77   0]\n",
            " [  0   3   0   0   0   0   0   0   0  62 145 204 228 207 213 221 218 208\n",
            "  211 218 224 223 219 215 224 244 159   0]\n",
            " [  0   0   0   0  18  44  82 107 189 228 220 222 217 226 200 205 211 230\n",
            "  224 234 176 188 250 248 233 238 215   0]\n",
            " [  0  57 187 208 224 221 224 208 204 214 208 209 200 159 245 193 206 223\n",
            "  255 255 221 234 221 211 220 232 246   0]\n",
            " [  3 202 228 224 221 211 211 214 205 205 205 220 240  80 150 255 229 221\n",
            "  188 154 191 210 204 209 222 228 225   0]\n",
            " [ 98 233 198 210 222 229 229 234 249 220 194 215 217 241  65  73 106 117\n",
            "  168 219 221 215 217 223 223 224 229  29]\n",
            " [ 75 204 212 204 193 205 211 225 216 185 197 206 198 213 240 195 227 245\n",
            "  239 223 218 212 209 222 220 221 230  67]\n",
            " [ 48 203 183 194 213 197 185 190 194 192 202 214 219 221 220 236 225 216\n",
            "  199 206 186 181 177 172 181 205 206 115]\n",
            " [  0 122 219 193 179 171 183 196 204 210 213 207 211 210 200 196 194 191\n",
            "  195 191 198 192 176 156 167 177 210  92]\n",
            " [  0   0  74 189 212 191 175 172 175 181 185 188 189 188 193 198 204 209\n",
            "  210 210 211 188 188 194 192 216 170   0]\n",
            " [  2   0   0   0  66 200 222 237 239 242 246 243 244 221 220 193 191 179\n",
            "  182 182 181 176 166 168  99  58   0   0]\n",
            " [  0   0   0   0   0   0   0  40  61  44  72  41  35   0   0   0   0   0\n",
            "    0   0   0   0   0   0   0   0   0   0]\n",
            " [  0   0   0   0   0   0   0   0   0   0   0   0   0   0   0   0   0   0\n",
            "    0   0   0   0   0   0   0   0   0   0]\n",
            " [  0   0   0   0   0   0   0   0   0   0   0   0   0   0   0   0   0   0\n",
            "    0   0   0   0   0   0   0   0   0   0]]\n",
            "9\n"
          ],
          "name": "stdout"
        }
      ]
    },
    {
      "cell_type": "markdown",
      "metadata": {
        "id": "0_AuiPjYRlYQ",
        "colab_type": "text"
      },
      "source": [
        "The label for the boot is 9.\n",
        "Since its a greyscale image the values are in between 0 to 255.\n",
        "You can also see the shape of the boot as in 0 represents black and the rest denotes other colours.\n",
        "\n",
        "While training a neural network, its easier if we treat all the values in b/w 0 to 1, a process called **normalizing**"
      ]
    },
    {
      "cell_type": "code",
      "metadata": {
        "id": "sIs00A3yRKIr",
        "colab_type": "code",
        "colab": {}
      },
      "source": [
        "training_images = training_images / 255.0\n",
        "test_images = test_images / 255.0"
      ],
      "execution_count": 0,
      "outputs": []
    },
    {
      "cell_type": "markdown",
      "metadata": {
        "id": "nJHWyM06X0x9",
        "colab_type": "text"
      },
      "source": [
        "Designing the model\n",
        "\n",
        "In the defenition we'll have three layers,"
      ]
    },
    {
      "cell_type": "code",
      "metadata": {
        "id": "ijXW3jZ6TEBF",
        "colab_type": "code",
        "colab": {}
      },
      "source": [
        "model = tf.keras.models.Sequential([\n",
        "                          tf.keras.layers.Flatten(input_shape = (28,28)), # Layer 1\n",
        "                          tf.keras.layers.Dense(128, activation = tf.nn.relu), # Layer 2\n",
        "                          tf.keras.layers.Dense(10, activation = tf.nn.softmax) # Layer 3\n",
        "])"
      ],
      "execution_count": 0,
      "outputs": []
    },
    {
      "cell_type": "markdown",
      "metadata": {
        "id": "4oEixIi2Xg97",
        "colab_type": "text"
      },
      "source": [
        "**Layer 1**\n",
        "is Flatten. There are no neurons here. The idea of the function is to take the rectangular shape of the data (28x28) and flatten that into 1D array, that can be processed by he next layer.\n",
        "\n",
        "**Layer 2**\n",
        "Flatten layer is followed by a Dense Layer, there are 128 neurons in this layer. The activation function used here is relu. Layers of Tensorflow can have an activation run on them, they are calld and executed while the network is learning. The \"relu\" activation function is used to cancel out the -ve numbers so that it wont skew results downstream and canceling out positive o/ps elsewhere.\n",
        "\n",
        "**Layer 3**\n",
        "The third Dense layer has 10 neurons and those are the output denoting each class. The actovation functionused is softmax, they are commonly seen on the final layers if there are multiple categories to simply find the most likely candidate. Basicall \"softmax\" will set the largest to 1 and the rest to 0, ie, to the correct class which is 1.\n",
        "\n",
        "**sequential** \n",
        "That defines a Sequence of layers in the Neural Network.\n",
        "\n",
        "**Flatten**\n",
        "Earlier we saw our square image right? Here Flatten just take the square and Flattens it out into 1 dimensional set.\n",
        "\n",
        "**Dense** \n",
        "As we already know, it adds up layer of neurons\n",
        "Each laer of neurons need activation functions to tell the what to do.\n",
        "\n",
        "**Relu** effectively means \"if X>0, return X, else return 0\", so what it does is it passes only 0 or greater to th next layer of neuron.\n",
        "\n",
        "**Softmax** takes a set of values and effectively picks the biggest one.\n",
        "\n",
        "If the o/p of the last layer looks like [0.1, 0.1, 0.05, 0.1, 9.5, 0.1, 0.05, 0.05, 0.05, 0.1], softmax turns that into [0, 0, 0, 0, 1, 0, 0, 0, 0, 0],basically taking the highest values into 1 and lowest into 0.\n",
        "\n",
        "\n",
        "\n",
        "After defining the model, while building the model, we do this by compiling it with an optimizer and a loss function and train the by calling **model.fit** asking it to fit the training data into training labels.\n",
        "Ie, basically figuring out the relationship b/w the training data and its actual labels, so that in the future if we have a data that looks like the training data then it can make a prediction what data could look like. "
      ]
    },
    {
      "cell_type": "code",
      "metadata": {
        "id": "5E_6W-wzULQm",
        "colab_type": "code",
        "outputId": "c73879fe-ad09-4e6f-ee5b-13e2aa658a92",
        "colab": {
          "base_uri": "https://localhost:8080/",
          "height": 204
        }
      },
      "source": [
        "# building the model\n",
        "model.compile(optimizer = 'adam',\n",
        "              loss = 'sparse_categorical_crossentropy',\n",
        "              metrics = ['accuracy'] # accuracy is a classification metric, used for multiclass classification problems.\n",
        ")\n",
        "\n",
        "# training the data into labels\n",
        "model.fit(training_images, training_labels, epochs = 5)"
      ],
      "execution_count": 9,
      "outputs": [
        {
          "output_type": "stream",
          "text": [
            "Epoch 1/5\n",
            "1875/1875 [==============================] - 3s 2ms/step - loss: 0.4971 - accuracy: 0.8235\n",
            "Epoch 2/5\n",
            "1875/1875 [==============================] - 3s 2ms/step - loss: 0.3742 - accuracy: 0.8634\n",
            "Epoch 3/5\n",
            "1875/1875 [==============================] - 3s 2ms/step - loss: 0.3361 - accuracy: 0.8773\n",
            "Epoch 4/5\n",
            "1875/1875 [==============================] - 3s 2ms/step - loss: 0.3110 - accuracy: 0.8867\n",
            "Epoch 5/5\n",
            "1875/1875 [==============================] - 3s 2ms/step - loss: 0.2947 - accuracy: 0.8918\n"
          ],
          "name": "stdout"
        },
        {
          "output_type": "execute_result",
          "data": {
            "text/plain": [
              "<tensorflow.python.keras.callbacks.History at 0x7fbcc040d9b0>"
            ]
          },
          "metadata": {
            "tags": []
          },
          "execution_count": 9
        }
      ]
    },
    {
      "cell_type": "markdown",
      "metadata": {
        "id": "EqRO5kDoeU-_",
        "colab_type": "text"
      },
      "source": [
        "The accuracy value is shown at the end of the epoch.\n",
        "in this example, it tells us that it is 89% accurate in classifying the training data. ie, it figure out the pattern match between the images and labels that worked 89% of the time. This can be tunes into further accuracy using various methods.\n",
        "\n",
        "\n",
        "Now lets evaluate it with the test data"
      ]
    },
    {
      "cell_type": "code",
      "metadata": {
        "id": "YlC_IYaXd6BH",
        "colab_type": "code",
        "outputId": "f70fd714-d4ef-497e-a2d6-f00ab46308f0",
        "colab": {
          "base_uri": "https://localhost:8080/",
          "height": 51
        }
      },
      "source": [
        "model.evaluate(test_images, test_labels)"
      ],
      "execution_count": 10,
      "outputs": [
        {
          "output_type": "stream",
          "text": [
            "313/313 [==============================] - 0s 2ms/step - loss: 0.3513 - accuracy: 0.8717\n"
          ],
          "name": "stdout"
        },
        {
          "output_type": "execute_result",
          "data": {
            "text/plain": [
              "[0.3513234257698059, 0.8716999888420105]"
            ]
          },
          "metadata": {
            "tags": []
          },
          "execution_count": 10
        }
      ]
    },
    {
      "cell_type": "markdown",
      "metadata": {
        "id": "r2jQhDXQfnOs",
        "colab_type": "text"
      },
      "source": [
        "The accuracy on the unseen data is 87%"
      ]
    },
    {
      "cell_type": "markdown",
      "metadata": {
        "id": "aTvN9xffpltm",
        "colab_type": "text"
      },
      "source": [
        "## Exploraion Exercises\n",
        "\n",
        "For the first exercise run the code below. It creates a classification for each of the images and then print the first entry in the classifications. The o/p after you run this is a list of numbers. Why do you think this is and what do those numbers represent? "
      ]
    },
    {
      "cell_type": "code",
      "metadata": {
        "id": "wRNvUv-sq2o3",
        "colab_type": "code",
        "colab": {
          "base_uri": "https://localhost:8080/",
          "height": 51
        },
        "outputId": "6485513b-6874-4588-b11e-1cf0e017b59e"
      },
      "source": [
        "classifications = model.predict(test_images)\n",
        "print(classifications[0])"
      ],
      "execution_count": 11,
      "outputs": [
        {
          "output_type": "stream",
          "text": [
            "[2.8508205e-07 2.9060205e-08 4.7602477e-08 4.4257780e-09 3.0908950e-08\n",
            " 2.1962801e-03 1.7724186e-07 5.1873367e-02 1.6903095e-06 9.4592816e-01]\n"
          ],
          "name": "stdout"
        }
      ]
    },
    {
      "cell_type": "markdown",
      "metadata": {
        "id": "KgSkFtu7rdZV",
        "colab_type": "text"
      },
      "source": [
        "Hint: try running print(test_labels[0]) -- and you'll get a 9. Does that help you understand why this list looks the way it does?"
      ]
    },
    {
      "cell_type": "code",
      "metadata": {
        "id": "My-CA0hRq9JX",
        "colab_type": "code",
        "colab": {
          "base_uri": "https://localhost:8080/",
          "height": 34
        },
        "outputId": "594a8035-26c2-48fe-fc9b-cb2e3f9ab832"
      },
      "source": [
        "print(test_labels[0])"
      ],
      "execution_count": 12,
      "outputs": [
        {
          "output_type": "stream",
          "text": [
            "9\n"
          ],
          "name": "stdout"
        }
      ]
    },
    {
      "cell_type": "markdown",
      "metadata": {
        "id": "vMcj1nUjtVZH",
        "colab_type": "text"
      },
      "source": [
        "What does this list represent?\n",
        "\n",
        "1)It's 10 random meaningless values\n",
        "\n",
        "2)It's the first 10 classifications that the computer made\n",
        "\n",
        "3)It's the probability that this item is each of the 10 classes"
      ]
    },
    {
      "cell_type": "markdown",
      "metadata": {
        "id": "z4SHRrGvuBnL",
        "colab_type": "text"
      },
      "source": [
        "Answer:\n",
        "\n",
        "The correct answer is 3.\n",
        "\n",
        "The o/p of the model is a list of 10 numbers. These numbers shows the probability that the classified value is that value with the highest probability. i.e. the first value in the list is that the probability that the image of the item belongs to '0', the next is '1'.etc."
      ]
    },
    {
      "cell_type": "markdown",
      "metadata": {
        "id": "MkUiDGvn3lCn",
        "colab_type": "text"
      },
      "source": [
        "## How do you know that this list tells you that the item is an ankle boot?\n",
        "\n",
        "1)There's not enough information to answer that question\n",
        "\n",
        "2)The 10th element on the list is the biggest, and the ankle boot is labelled 9\n",
        "\n",
        "3)The ankle boot is label 9, and there are 0->9 elements in the list"
      ]
    },
    {
      "cell_type": "markdown",
      "metadata": {
        "id": "bvYaYEnl3z6y",
        "colab_type": "text"
      },
      "source": [
        "Answer\n",
        "The correct answer is (2). Both the list and the labels are 0 based, so the ankle boot having label 9 means that it is the 10th of the 10 classes. The list having the 10th element being the highest value means that the Neural Network has predicted that the item it is classifying is most likely an ankle boot"
      ]
    },
    {
      "cell_type": "markdown",
      "metadata": {
        "id": "uPiu4xQ-8Nz-",
        "colab_type": "text"
      },
      "source": [
        "# Exercise 2\n",
        "\n",
        "Let's now look at the layers in the model.\n",
        "Experiment with different values for the dense layer 512 neurons. What different results do you get for loss, trainig time etc? Why do you think thats the case?"
      ]
    },
    {
      "cell_type": "code",
      "metadata": {
        "id": "Y4LsGG8YrNN-",
        "colab_type": "code",
        "colab": {}
      },
      "source": [
        "# importing the package\n",
        "import tensorflow as tf\n",
        "print(tf.__version__)\n",
        "\n",
        "# loading the fashion_mnist dataset from the keras datasets API\n",
        "mnist = tf.keras.datasets.fashion_mnist\n",
        "\n",
        "# Loading the imges into training and tesing part\n",
        "(training_images, training_labels), (test_images, test_labels) = mnist.load_data()\n",
        "\n",
        "# normalizing the training and testing images\n",
        "training_images = training_images/255.0\n",
        "test_images - test_images/255.0\n",
        "\n",
        "# Designing the model\n",
        "model = tf.keras.models.Sequential([tf.keras.layers.Flatten(input_shape = (28,28)),\n",
        "                                    tf.keras.layers.Dense(1024, activation= tf.nn.relu),\n",
        "                                    tf.keras.layers.Dense(10, activation= tf.nn.softmax)])\n",
        "\n",
        "# Building/compiling the model\n",
        "model.compile(optimizer= 'adam',\n",
        "              loss = 'sparse_categorical_crossentropy')\n",
        "\n",
        "# Training the data into labels\n",
        "model.fit(training_images, training_labels, epochs= 5)\n",
        "\n",
        "# Evaluating the model with the test data\n",
        "model.evaluate(test_images, test_labels)\n",
        "\n",
        "# classificaions and prediction\n",
        "classifications = model.predict(test_images)\n",
        "print(classifications[0])\n",
        "print(test_labels[0])"
      ],
      "execution_count": 0,
      "outputs": []
    },
    {
      "cell_type": "markdown",
      "metadata": {
        "id": "JZuNmPSsEcMh",
        "colab_type": "text"
      },
      "source": [
        "Question 1. Increase to 1024 Neurons -- What's the impact?\n",
        "\n",
        "1)Training takes longer, but is more accurate\n",
        "\n",
        "2)Training takes longer, but no impact on accuracy\n",
        "\n",
        "3)Training takes the same time, but is more accurate\n",
        "\n",
        "\n",
        "## Answer\n",
        "\n",
        "The correct answer is (1) by adding more Neurons we have to do more calculations, slowing down the process, but in this case they have a good impact -- we do get more accurate. That doesn't mean it's always a case of 'more is better', you can hit the **law of diminishing returns** very quickly!"
      ]
    },
    {
      "cell_type": "markdown",
      "metadata": {
        "id": "HnM1yhyMTsr1",
        "colab_type": "text"
      },
      "source": [
        "# Exercise 3\n",
        "\n",
        "What would happen if you remove the Flatten() layer. Why do you think that's the case?\n",
        "\n",
        "You get an error about the shape of the data. It may seem vague right now, but it reinforces the rule of thumb that the first layer in your network should be the same shape as your data. Right now our data is 28x28 images, and 28 layers of 28 neurons would be infeasible, so it makes more sense to 'flatten' that 28,28 into a 784x1. Instead of wriitng all the code to handle that ourselves, we add the Flatten() layer at the begining, and when the arrays are loaded into the model later, they'll automatically be flattened for us"
      ]
    },
    {
      "cell_type": "code",
      "metadata": {
        "id": "M7srbDOICoZy",
        "colab_type": "code",
        "colab": {}
      },
      "source": [
        "import tensorflow as tf\n",
        "print(tf.__version__)\n",
        "\n",
        "mnist = tf.keras.datasets.fashion_mnist\n",
        "\n",
        "(training_images, training_labels), (test_images, test_labels) = mnist.load_data()\n",
        "\n",
        "training_images = training_images/255.0\n",
        "test_images = test_images/255.0\n",
        "\n",
        "model = tf.keras.models.Sequential([ tf.keras.layers.Flatten(input_shape = (28,28)),\n",
        "                                    tf.keras.layers.Dense(128, activation = tf.nn.relu),\n",
        "                                    tf.keras.layers.Dense(10, activation= tf.nn.softmax)\n",
        "                                    \n",
        "])\n",
        "\n",
        "# model without the Flatten Layer\n",
        "# model = tf.keras.models.Sequential([tf.keras.layers.Dense(128, activation = tf.nn.relu),\n",
        "#                                    tf.keras.layers.Dense(10, activation= tf.nn.softmax)                                    \n",
        "# ])\n",
        "\n",
        "model.compile(optimizer= 'adam',loss = 'sparse_categorical_crossentropy')\n",
        "\n",
        "model.fit(training_images, training_labels, epochs= 5)\n",
        "\n",
        "model.evaluate(test_images, test_labels)\n",
        "\n",
        "classifications = model.predict(test_images)\n",
        "\n",
        "print(classifications[0])\n",
        "print(test_labels[0])"
      ],
      "execution_count": 0,
      "outputs": []
    },
    {
      "cell_type": "markdown",
      "metadata": {
        "id": "-LEuMtXlYBzy",
        "colab_type": "text"
      },
      "source": [
        "#Exercise 4:\n",
        "\n",
        "Consider the final (output) layers. Why are there 10 of them? What would happen if you had a different amount than 10? For example, try training the network with 5\n",
        "\n",
        "You get an error as soon as it finds an unexpected value. Another rule of thumb -- the number of neurons in the last layer should match the number of classes you are classifying for. In this case it's the digits 0-9, so there are 10 of them, hence you should have 10 neurons in your final layer."
      ]
    },
    {
      "cell_type": "code",
      "metadata": {
        "id": "xlMTuP5jYMdN",
        "colab_type": "code",
        "colab": {}
      },
      "source": [
        "import tensorflow as tf\n",
        "print(tf.__version__)\n",
        "\n",
        "mnist = tf.keras.datasets.fashion_mnist\n",
        "\n",
        "(training_images, training_labels), (test_images, test_labels) = mnist.load_data()\n",
        "\n",
        "training_images = training_images/255.0\n",
        "test_images = test_images/255.0\n",
        "\n",
        "model = tf.keras.models.Sequential([ tf.keras.layers.Flatten(input_shape = (28,28)),\n",
        "                                    tf.keras.layers.Dense(64, activation= tf.nn.relu),\n",
        "                                    tf.keras.layers.Dense(10, activation= tf.nn.softmax)\n",
        "                                    ])\n",
        "\n",
        "# the model with 5 o/p neurons\n",
        "# model = tf.keras.models.Sequential([ tf.keras.layers.Flatten(input_shape = (28,28)),\n",
        "#                                    tf.keras.layers.Dense(64, activation= tf.nn.relu),\n",
        "#                                    tf.keras.layers.Dense(5, activation= tf.nn.softmax)\n",
        "#                                    ])\n",
        "\n",
        "model.compile(optimizer= 'adam', loss = 'sparse_categorical_crossentropy')\n",
        "\n",
        "model.fit(training_images, training_labels, epochs=5)\n",
        "\n",
        "model.evaluate(test_images, test_labels)\n",
        "\n",
        "classifications = model.predict(test_images)\n",
        "\n",
        "print(classifications[0])\n",
        "print(test_labels[0])"
      ],
      "execution_count": 0,
      "outputs": []
    },
    {
      "cell_type": "markdown",
      "metadata": {
        "id": "sC5P-efieXe0",
        "colab_type": "text"
      },
      "source": [
        "Exercise 5:\n",
        "Consider the effects of additional layers in the network. What will happen if you add another layer between the one with 512 and the final layer with 10.\n",
        "\n",
        "Ans: There isn't a significant impact -- because this is relatively simple data. For far more complex data, extra layers are often necessary."
      ]
    },
    {
      "cell_type": "code",
      "metadata": {
        "id": "XVN3LTbHaop4",
        "colab_type": "code",
        "colab": {}
      },
      "source": [
        "import tensorflow as tf\n",
        "print(tf.__version__)\n",
        "\n",
        "mnist = tf.keras.datasets.fashion_mnist\n",
        "\n",
        "(training_images, training_labels), (test_images, test_labels) = mnist.load_data()\n",
        "\n",
        "training_images = training_images/255.0\n",
        "test_images = test_images/255.0\n",
        "\n",
        "model = tf.keras.models.Sequential([ tf.keras.layers.Flatten(input_shape = (28,28)),\n",
        "                                    tf.keras.layers.Dense(512, activation = tf.nn.relu),\n",
        "                                    tf.keras.layers.Dense(256, activation= tf.nn.relu),\n",
        "                                    tf.keras.layers.Dense(10, activation= tf.nn.softmax)\n",
        "                                    ])\n",
        "\n",
        "model.compile(optimizer= 'adam', loss = 'sparse_categorical_crossentropy')\n",
        "\n",
        "model.fit(training_images, training_labels, epochs=5)\n",
        "\n",
        "model.evaluate(test_images, test_labels)\n",
        "\n",
        "classifications = model.predict(test_images)\n",
        "\n",
        "print(classifications[0])\n",
        "print(test_labels[0])"
      ],
      "execution_count": 0,
      "outputs": []
    },
    {
      "cell_type": "markdown",
      "metadata": {
        "id": "Tv0KRwIYfNMG",
        "colab_type": "text"
      },
      "source": [
        "#Exercise 6:\n",
        "\n",
        "Consider the impact of training for more or less epochs. Why do you think that would be the case?\n",
        "\n",
        "Try 15 epochs -- you'll probably get a model with a much better loss than the one with 5 Try 30 epochs -- you might see the loss value stops decreasing, and sometimes increases. This is a side effect of something called 'overfitting' which you can learn about [somewhere] and it's something you need to keep an eye out for when training neural networks. There's no point in wasting your time training if you aren't improving your loss, right! :)"
      ]
    },
    {
      "cell_type": "code",
      "metadata": {
        "id": "r6TeTHAyfer8",
        "colab_type": "code",
        "colab": {
          "base_uri": "https://localhost:8080/",
          "height": 1000
        },
        "outputId": "5e6401c3-03ae-4559-c7ff-c042ce7045bf"
      },
      "source": [
        "import tensorflow as tf\n",
        "print(tf.__version__)\n",
        "\n",
        "mnist = tf.keras.datasets.fashion_mnist\n",
        "\n",
        "(training_images, training_labels), (test_images, test_labels) = mnist.load_data()\n",
        "\n",
        "training_images = training_images/255.0\n",
        "test_images = test_images/255.0\n",
        "\n",
        "model = tf.keras.models.Sequential([ tf.keras.layers.Flatten(input_shape = (28,28)),\n",
        "                                    tf.keras.layers.Dense(512, activation = tf.nn.relu),\n",
        "                                    tf.keras.layers.Dense(256, activation= tf.nn.relu),\n",
        "                                    tf.keras.layers.Dense(10, activation= tf.nn.softmax)\n",
        "                                    ])\n",
        "\n",
        "model.compile(optimizer= 'adam', loss = 'sparse_categorical_crossentropy')\n",
        "\n",
        "model.fit(training_images, training_labels, epochs=100)\n",
        "\n",
        "model.evaluate(test_images, test_labels)\n",
        "\n",
        "classifications = model.predict(test_images)\n",
        "\n",
        "print(classifications[0])\n",
        "print(test_labels[0])"
      ],
      "execution_count": 18,
      "outputs": [
        {
          "output_type": "stream",
          "text": [
            "2.2.0\n",
            "Epoch 1/100\n",
            "1875/1875 [==============================] - 3s 1ms/step - loss: 0.4702\n",
            "Epoch 2/100\n",
            "1875/1875 [==============================] - 3s 1ms/step - loss: 0.3533\n",
            "Epoch 3/100\n",
            "1875/1875 [==============================] - 3s 2ms/step - loss: 0.3223\n",
            "Epoch 4/100\n",
            "1875/1875 [==============================] - 3s 1ms/step - loss: 0.2943\n",
            "Epoch 5/100\n",
            "1875/1875 [==============================] - 3s 1ms/step - loss: 0.2784\n",
            "Epoch 6/100\n",
            "1875/1875 [==============================] - 3s 1ms/step - loss: 0.2637\n",
            "Epoch 7/100\n",
            "1875/1875 [==============================] - 3s 1ms/step - loss: 0.2490\n",
            "Epoch 8/100\n",
            "1875/1875 [==============================] - 3s 1ms/step - loss: 0.2398\n",
            "Epoch 9/100\n",
            "1875/1875 [==============================] - 3s 1ms/step - loss: 0.2281\n",
            "Epoch 10/100\n",
            "1875/1875 [==============================] - 3s 2ms/step - loss: 0.2211\n",
            "Epoch 11/100\n",
            "1875/1875 [==============================] - 3s 2ms/step - loss: 0.2119\n",
            "Epoch 12/100\n",
            "1875/1875 [==============================] - 3s 2ms/step - loss: 0.2031\n",
            "Epoch 13/100\n",
            "1875/1875 [==============================] - 3s 2ms/step - loss: 0.1956\n",
            "Epoch 14/100\n",
            "1875/1875 [==============================] - 3s 1ms/step - loss: 0.1907\n",
            "Epoch 15/100\n",
            "1875/1875 [==============================] - 3s 2ms/step - loss: 0.1828\n",
            "Epoch 16/100\n",
            "1875/1875 [==============================] - 3s 1ms/step - loss: 0.1763\n",
            "Epoch 17/100\n",
            "1875/1875 [==============================] - 3s 1ms/step - loss: 0.1705\n",
            "Epoch 18/100\n",
            "1875/1875 [==============================] - 3s 2ms/step - loss: 0.1672\n",
            "Epoch 19/100\n",
            "1875/1875 [==============================] - 3s 1ms/step - loss: 0.1597\n",
            "Epoch 20/100\n",
            "1875/1875 [==============================] - 3s 1ms/step - loss: 0.1568\n",
            "Epoch 21/100\n",
            "1875/1875 [==============================] - 3s 1ms/step - loss: 0.1494\n",
            "Epoch 22/100\n",
            "1875/1875 [==============================] - 3s 1ms/step - loss: 0.1475\n",
            "Epoch 23/100\n",
            "1875/1875 [==============================] - 3s 1ms/step - loss: 0.1430\n",
            "Epoch 24/100\n",
            "1875/1875 [==============================] - 3s 1ms/step - loss: 0.1367\n",
            "Epoch 25/100\n",
            "1875/1875 [==============================] - 3s 1ms/step - loss: 0.1364\n",
            "Epoch 26/100\n",
            "1875/1875 [==============================] - 3s 1ms/step - loss: 0.1294\n",
            "Epoch 27/100\n",
            "1875/1875 [==============================] - 3s 1ms/step - loss: 0.1271\n",
            "Epoch 28/100\n",
            "1875/1875 [==============================] - 3s 1ms/step - loss: 0.1242\n",
            "Epoch 29/100\n",
            "1875/1875 [==============================] - 3s 1ms/step - loss: 0.1200\n",
            "Epoch 30/100\n",
            "1875/1875 [==============================] - 3s 1ms/step - loss: 0.1214\n",
            "Epoch 31/100\n",
            "1875/1875 [==============================] - 3s 1ms/step - loss: 0.1177\n",
            "Epoch 32/100\n",
            "1875/1875 [==============================] - 3s 1ms/step - loss: 0.1122\n",
            "Epoch 33/100\n",
            "1875/1875 [==============================] - 3s 1ms/step - loss: 0.1124\n",
            "Epoch 34/100\n",
            "1875/1875 [==============================] - 3s 1ms/step - loss: 0.1112\n",
            "Epoch 35/100\n",
            "1875/1875 [==============================] - 3s 1ms/step - loss: 0.1056\n",
            "Epoch 36/100\n",
            "1875/1875 [==============================] - 3s 1ms/step - loss: 0.1076\n",
            "Epoch 37/100\n",
            "1875/1875 [==============================] - 3s 1ms/step - loss: 0.1009\n",
            "Epoch 38/100\n",
            "1875/1875 [==============================] - 3s 1ms/step - loss: 0.0973\n",
            "Epoch 39/100\n",
            "1875/1875 [==============================] - 3s 1ms/step - loss: 0.0986\n",
            "Epoch 40/100\n",
            "1875/1875 [==============================] - 3s 1ms/step - loss: 0.0973\n",
            "Epoch 41/100\n",
            "1875/1875 [==============================] - 3s 2ms/step - loss: 0.0941\n",
            "Epoch 42/100\n",
            "1875/1875 [==============================] - 3s 1ms/step - loss: 0.0966\n",
            "Epoch 43/100\n",
            "1875/1875 [==============================] - 3s 1ms/step - loss: 0.0927\n",
            "Epoch 44/100\n",
            "1875/1875 [==============================] - 3s 1ms/step - loss: 0.0881\n",
            "Epoch 45/100\n",
            "1875/1875 [==============================] - 3s 1ms/step - loss: 0.0915\n",
            "Epoch 46/100\n",
            "1875/1875 [==============================] - 3s 1ms/step - loss: 0.0864\n",
            "Epoch 47/100\n",
            "1875/1875 [==============================] - 3s 1ms/step - loss: 0.0807\n",
            "Epoch 48/100\n",
            "1875/1875 [==============================] - 3s 1ms/step - loss: 0.0874\n",
            "Epoch 49/100\n",
            "1875/1875 [==============================] - 3s 1ms/step - loss: 0.0830\n",
            "Epoch 50/100\n",
            "1875/1875 [==============================] - 3s 1ms/step - loss: 0.0854\n",
            "Epoch 51/100\n",
            "1875/1875 [==============================] - 3s 1ms/step - loss: 0.0757\n",
            "Epoch 52/100\n",
            "1875/1875 [==============================] - 3s 1ms/step - loss: 0.0801\n",
            "Epoch 53/100\n",
            "1875/1875 [==============================] - 3s 1ms/step - loss: 0.0769\n",
            "Epoch 54/100\n",
            "1875/1875 [==============================] - 3s 1ms/step - loss: 0.0767\n",
            "Epoch 55/100\n",
            "1875/1875 [==============================] - 3s 1ms/step - loss: 0.0762\n",
            "Epoch 56/100\n",
            "1875/1875 [==============================] - 3s 1ms/step - loss: 0.0721\n",
            "Epoch 57/100\n",
            "1875/1875 [==============================] - 3s 1ms/step - loss: 0.0707\n",
            "Epoch 58/100\n",
            "1875/1875 [==============================] - 3s 1ms/step - loss: 0.0710\n",
            "Epoch 59/100\n",
            "1875/1875 [==============================] - 3s 1ms/step - loss: 0.0720\n",
            "Epoch 60/100\n",
            "1875/1875 [==============================] - 3s 1ms/step - loss: 0.0686\n",
            "Epoch 61/100\n",
            "1875/1875 [==============================] - 3s 1ms/step - loss: 0.0719\n",
            "Epoch 62/100\n",
            "1875/1875 [==============================] - 3s 1ms/step - loss: 0.0713\n",
            "Epoch 63/100\n",
            "1875/1875 [==============================] - 3s 1ms/step - loss: 0.0700\n",
            "Epoch 64/100\n",
            "1875/1875 [==============================] - 3s 1ms/step - loss: 0.0623\n",
            "Epoch 65/100\n",
            "1875/1875 [==============================] - 3s 1ms/step - loss: 0.0677\n",
            "Epoch 66/100\n",
            "1875/1875 [==============================] - 3s 1ms/step - loss: 0.0695\n",
            "Epoch 67/100\n",
            "1875/1875 [==============================] - 3s 1ms/step - loss: 0.0674\n",
            "Epoch 68/100\n",
            "1875/1875 [==============================] - 3s 2ms/step - loss: 0.0642\n",
            "Epoch 69/100\n",
            "1875/1875 [==============================] - 3s 2ms/step - loss: 0.0612\n",
            "Epoch 70/100\n",
            "1875/1875 [==============================] - 3s 2ms/step - loss: 0.0591\n",
            "Epoch 71/100\n",
            "1875/1875 [==============================] - 3s 2ms/step - loss: 0.0638\n",
            "Epoch 72/100\n",
            "1875/1875 [==============================] - 3s 1ms/step - loss: 0.0636\n",
            "Epoch 73/100\n",
            "1875/1875 [==============================] - 3s 1ms/step - loss: 0.0581\n",
            "Epoch 74/100\n",
            "1875/1875 [==============================] - 3s 1ms/step - loss: 0.0584\n",
            "Epoch 75/100\n",
            "1875/1875 [==============================] - 3s 1ms/step - loss: 0.0581\n",
            "Epoch 76/100\n",
            "1875/1875 [==============================] - 3s 1ms/step - loss: 0.0574\n",
            "Epoch 77/100\n",
            "1875/1875 [==============================] - 3s 1ms/step - loss: 0.0569\n",
            "Epoch 78/100\n",
            "1875/1875 [==============================] - 3s 1ms/step - loss: 0.0558\n",
            "Epoch 79/100\n",
            "1875/1875 [==============================] - 3s 1ms/step - loss: 0.0579\n",
            "Epoch 80/100\n",
            "1875/1875 [==============================] - 3s 1ms/step - loss: 0.0545\n",
            "Epoch 81/100\n",
            "1875/1875 [==============================] - 3s 1ms/step - loss: 0.0563\n",
            "Epoch 82/100\n",
            "1875/1875 [==============================] - 3s 2ms/step - loss: 0.0524\n",
            "Epoch 83/100\n",
            "1875/1875 [==============================] - 3s 1ms/step - loss: 0.0569\n",
            "Epoch 84/100\n",
            "1875/1875 [==============================] - 3s 1ms/step - loss: 0.0555\n",
            "Epoch 85/100\n",
            "1875/1875 [==============================] - 3s 1ms/step - loss: 0.0513\n",
            "Epoch 86/100\n",
            "1875/1875 [==============================] - 3s 1ms/step - loss: 0.0548\n",
            "Epoch 87/100\n",
            "1875/1875 [==============================] - 3s 2ms/step - loss: 0.0516\n",
            "Epoch 88/100\n",
            "1875/1875 [==============================] - 3s 2ms/step - loss: 0.0516\n",
            "Epoch 89/100\n",
            "1875/1875 [==============================] - 3s 2ms/step - loss: 0.0482\n",
            "Epoch 90/100\n",
            "1875/1875 [==============================] - 3s 2ms/step - loss: 0.0539\n",
            "Epoch 91/100\n",
            "1875/1875 [==============================] - 3s 1ms/step - loss: 0.0456\n",
            "Epoch 92/100\n",
            "1875/1875 [==============================] - 3s 1ms/step - loss: 0.0500\n",
            "Epoch 93/100\n",
            "1875/1875 [==============================] - 3s 1ms/step - loss: 0.0536\n",
            "Epoch 94/100\n",
            "1875/1875 [==============================] - 3s 1ms/step - loss: 0.0523\n",
            "Epoch 95/100\n",
            "1875/1875 [==============================] - 3s 1ms/step - loss: 0.0468\n",
            "Epoch 96/100\n",
            "1875/1875 [==============================] - 3s 1ms/step - loss: 0.0448\n",
            "Epoch 97/100\n",
            "1875/1875 [==============================] - 3s 1ms/step - loss: 0.0437\n",
            "Epoch 98/100\n",
            "1875/1875 [==============================] - 3s 1ms/step - loss: 0.0561\n",
            "Epoch 99/100\n",
            "1875/1875 [==============================] - 3s 2ms/step - loss: 0.0462\n",
            "Epoch 100/100\n",
            "1875/1875 [==============================] - 3s 1ms/step - loss: 0.0473\n",
            "313/313 [==============================] - 0s 1ms/step - loss: 1.2269\n",
            "[2.0506438e-17 8.7449045e-32 1.4027203e-22 1.6261775e-31 1.6843117e-33\n",
            " 2.1474803e-12 4.6102254e-18 6.5935681e-12 1.3354339e-24 1.0000000e+00]\n",
            "9\n"
          ],
          "name": "stdout"
        }
      ]
    },
    {
      "cell_type": "markdown",
      "metadata": {
        "id": "7BXxKJ72gh4M",
        "colab_type": "text"
      },
      "source": [
        "#Exercise 7:\n",
        "\n",
        "Before you trained, you normalized the data, going from values that were 0-255 to values that were 0-1. What would be the impact of removing that? Here's the complete code to give it a try. Why do you think you get different results?\n",
        "\n",
        "Ans: Normalizing the data generally speeds up learning and leads to faster convergence."
      ]
    },
    {
      "cell_type": "code",
      "metadata": {
        "id": "S7cpnN9DhD-y",
        "colab_type": "code",
        "colab": {}
      },
      "source": [
        "import tensorflow as tf\n",
        "print(tf.__version__)\n",
        "\n",
        "mnist = tf.keras.datasets.fashion_mnist\n",
        "\n",
        "(training_images, training_labels), (test_images, test_labels) = mnist.load_data()\n",
        "\n",
        "# comment the following 2 lines for the experiment\n",
        "# training_images = training_images/255.0\n",
        "# test_images = test_images/255.0\n",
        "\n",
        "model = tf.keras.models.Sequential([ tf.keras.layers.Flatten(input_shape = (28,28)),\n",
        "                                    tf.keras.layers.Dense(256, activation= tf.nn.relu),\n",
        "                                    tf.keras.layers.Dense(10, activation= tf.nn.softmax)\n",
        "                                    ])\n",
        "\n",
        "model.compile(optimizer= 'adam', loss = 'sparse_categorical_crossentropy')\n",
        "\n",
        "model.fit(training_images, training_labels, epochs=5)\n",
        "\n",
        "model.evaluate(test_images, test_labels)\n",
        "\n",
        "classifications = model.predict(test_images)\n",
        "\n",
        "print(classifications[0])\n",
        "print(test_labels[0])"
      ],
      "execution_count": 0,
      "outputs": []
    }
  ]
}