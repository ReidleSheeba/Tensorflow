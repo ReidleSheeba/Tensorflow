{
  "nbformat": 4,
  "nbformat_minor": 0,
  "metadata": {
    "colab": {
      "name": "Exercise 1 House Price.ipynb",
      "provenance": [],
      "collapsed_sections": []
    },
    "kernelspec": {
      "name": "python3",
      "display_name": "Python 3"
    }
  },
  "cells": [
    {
      "cell_type": "markdown",
      "metadata": {
        "id": "ap-xV1Lm99pm",
        "colab_type": "text"
      },
      "source": [
        "In this exercise you'll try to build a neural network that predicts the price of a house according to a simple formula.\n",
        "\n",
        "So, imagine if house pricing was as easy as a house costs 50k + 50k per bedroom, so that a 1 bedroom house costs 100k, a 2 bedroom house costs 150k etc.\n",
        "\n",
        "How would you create a neural network that learns this relationship so that it would predict a 7 bedroom house as costing close to 400k etc.\n",
        "\n",
        "Hint: Your network might work better if you scale the house price down. You don't have to give the answer 400...it might be better to create something that predicts the number 4, and then your answer is in the 'hundreds of thousands' etc."
      ]
    },
    {
      "cell_type": "markdown",
      "metadata": {
        "id": "DGdINvkn-a5q",
        "colab_type": "text"
      },
      "source": [
        "Importing the packages"
      ]
    },
    {
      "cell_type": "code",
      "metadata": {
        "id": "LBoPGCe_93rL",
        "colab_type": "code",
        "colab": {}
      },
      "source": [
        "import numpy as np\n",
        "import tensorflow as tf\n",
        "from tensorflow import keras"
      ],
      "execution_count": 0,
      "outputs": []
    },
    {
      "cell_type": "markdown",
      "metadata": {
        "id": "c0Q4XtWg_Eun",
        "colab_type": "text"
      },
      "source": [
        "Defining the Neural Network"
      ]
    },
    {
      "cell_type": "code",
      "metadata": {
        "id": "Ac-PyISh-ozB",
        "colab_type": "code",
        "colab": {}
      },
      "source": [
        "model = tf.keras.Sequential([keras.layers.Dense(units = 1, input_shape = [1])])"
      ],
      "execution_count": 0,
      "outputs": []
    },
    {
      "cell_type": "markdown",
      "metadata": {
        "id": "OjnfYhJvAJgW",
        "colab_type": "text"
      },
      "source": [
        "Compiling the Neural Network"
      ]
    },
    {
      "cell_type": "code",
      "metadata": {
        "id": "EDN2XKlz_ntC",
        "colab_type": "code",
        "colab": {}
      },
      "source": [
        "model.compile(optimizer = 'sgd', loss = 'mean_squared_error')"
      ],
      "execution_count": 0,
      "outputs": []
    },
    {
      "cell_type": "markdown",
      "metadata": {
        "id": "1oN-4OvsARr2",
        "colab_type": "text"
      },
      "source": [
        "Providing Data"
      ]
    },
    {
      "cell_type": "code",
      "metadata": {
        "id": "Anx1xI04ACSb",
        "colab_type": "code",
        "colab": {}
      },
      "source": [
        "xs = np.array([1.0, 2.0, 3.0, 4.0, 5.0, 6.0], dtype = float) # bedroom\n",
        "ys = np.array([1.0, 1.50, 2.0, 2.5, 3.0, 3.5], dtype = float) # price in 100k"
      ],
      "execution_count": 0,
      "outputs": []
    },
    {
      "cell_type": "markdown",
      "metadata": {
        "id": "wskU8tt-DldM",
        "colab_type": "text"
      },
      "source": [
        "Training Neural Network"
      ]
    },
    {
      "cell_type": "code",
      "metadata": {
        "id": "IU5Cg1beBR6r",
        "colab_type": "code",
        "colab": {
          "base_uri": "https://localhost:8080/",
          "height": 374
        },
        "outputId": "1922a0bd-5177-43be-fbfb-e364a2f5afe9"
      },
      "source": [
        "model.fit(xs,ys, epochs=10)"
      ],
      "execution_count": 5,
      "outputs": [
        {
          "output_type": "stream",
          "text": [
            "Epoch 1/10\n",
            "1/1 [==============================] - 0s 2ms/step - loss: 7.5133\n",
            "Epoch 2/10\n",
            "1/1 [==============================] - 0s 2ms/step - loss: 3.5211\n",
            "Epoch 3/10\n",
            "1/1 [==============================] - 0s 2ms/step - loss: 1.6731\n",
            "Epoch 4/10\n",
            "1/1 [==============================] - 0s 1ms/step - loss: 0.8175\n",
            "Epoch 5/10\n",
            "1/1 [==============================] - 0s 1ms/step - loss: 0.4212\n",
            "Epoch 6/10\n",
            "1/1 [==============================] - 0s 1ms/step - loss: 0.2374\n",
            "Epoch 7/10\n",
            "1/1 [==============================] - 0s 1ms/step - loss: 0.1521\n",
            "Epoch 8/10\n",
            "1/1 [==============================] - 0s 1ms/step - loss: 0.1123\n",
            "Epoch 9/10\n",
            "1/1 [==============================] - 0s 1ms/step - loss: 0.0935\n",
            "Epoch 10/10\n",
            "1/1 [==============================] - 0s 1ms/step - loss: 0.0846\n"
          ],
          "name": "stdout"
        },
        {
          "output_type": "execute_result",
          "data": {
            "text/plain": [
              "<tensorflow.python.keras.callbacks.History at 0x7f572ffbac18>"
            ]
          },
          "metadata": {
            "tags": []
          },
          "execution_count": 5
        }
      ]
    },
    {
      "cell_type": "code",
      "metadata": {
        "id": "K5yRS-nwBZuz",
        "colab_type": "code",
        "colab": {
          "base_uri": "https://localhost:8080/",
          "height": 34
        },
        "outputId": "7abe3cb1-f9bc-40df-b410-fc31c0a71cd2"
      },
      "source": [
        "print(model.predict([7.0])) # so for a 7 bedroo house, the price will be around 400k"
      ],
      "execution_count": 6,
      "outputs": [
        {
          "output_type": "stream",
          "text": [
            "[[4.503079]]\n"
          ],
          "name": "stdout"
        }
      ]
    }
  ]
}